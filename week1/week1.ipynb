import matplotlib.pyplot as plt
import numpy as np
import math

class Frame():


  def _init_(self,x,y):
    self.x=x
    self.y=y

def transformPoint(org_coord, new_origin, Theta):
  angle = np.radians(Theta)
  cos = np.cos(angle)
  sin = np.sin(angle)
  RotationMatrix = np.array(((cos, -sin), (sin, cos)))
  new_coord = np.array(org_coord)  - np.array(new_origin) 
  [x_dash, y_dash] = np.dot(new_coord, RotationMatrix)
  return x_dash, y_dash


def plotAxis(og_coord, new_origin, Theta):


  angle = np.radians(Theta)
  x_dash, y_dash = transformPoint(og_coord, new_origin, Theta)
  print(f"Coordinates with respect to new axis : {x_dash}, {y_dash}")
  plt.scatter(og_coord[0], og_coord[1])

    
  FrameA = Frame()

  x = np.linspace(0, 5, 11)

  FrameA.x = x
  FrameA.y = x

  plt.plot(FrameA.x , np.zeros(11) , 'r-' )
  plt.plot(np.zeros(11), FrameA.y, 'r-')

  if Theta == 0. :

    plt.plot(FrameA.x + new_origin[0] , np.zeros(11) + new_origin[1], 'b-' )
    plt.plot(np.zeros(11) + new_origin[0], FrameA.y + new_origin[1], 'b-')
    return

    #rotated frame
  FrameB = Frame()

  FrameB.x = np.tan(angle) * x 
  FrameB.y = (1/np.tan(angle)) * (x)

  plt.plot(x + new_origin[0], FrameB.x + new_origin[1], 'b-')
  plt.plot(-x + new_origin[0], FrameB.y + new_origin[1], 'b-')
  plt.tight_layout()  
[x, y] = [int(x) for x in input("Enter the coordinates of the point as x,y :").split(',')]
[X, Y] = [int(x) for x in input("Enter the translated origin coordinate as X,Y :").split(',')]
Theta = int(input("Enter rotation angle in degrees:"))
plotAxis([x, y], [X, Y], Theta)
